{
 "cells": [
  {
   "cell_type": "code",
   "execution_count": 2,
   "id": "6a5bcd1c",
   "metadata": {},
   "outputs": [
    {
     "name": "stdout",
     "output_type": "stream",
     "text": [
      "1\n",
      "2\n",
      "3\n",
      "4\n",
      "5\n",
      "6\n",
      "7\n",
      "8\n",
      "9\n",
      "10\n",
      "11\n",
      "12\n",
      "13\n",
      "14\n",
      "15\n",
      "16\n",
      "17\n",
      "18\n",
      "19\n"
     ]
    }
   ],
   "source": [
    "# print 0 to 20 by using range\n",
    "for temp in range(1,20):\n",
    "    print(temp)"
   ]
  },
  {
   "cell_type": "code",
   "execution_count": 3,
   "id": "abba1889",
   "metadata": {},
   "outputs": [
    {
     "name": "stdout",
     "output_type": "stream",
     "text": [
      "10\n",
      "11\n",
      "12\n",
      "13\n",
      "14\n",
      "15\n",
      "16\n",
      "17\n",
      "18\n",
      "19\n"
     ]
    }
   ],
   "source": [
    "# print range 10 to 20\n",
    "for temp in range(10,20):\n",
    "    print(temp)"
   ]
  },
  {
   "cell_type": "code",
   "execution_count": 10,
   "id": "682d6a83",
   "metadata": {},
   "outputs": [
    {
     "name": "stdout",
     "output_type": "stream",
     "text": [
      "[10, 20, 14, 55, 43, 87, 76] \n",
      "Number of item in the List2: \n",
      " 7\n"
     ]
    }
   ],
   "source": [
    "# Print number of items in the list by using 'len'\n",
    "# The len() function returns the number of items in an object.\n",
    "list=[10, 20, 14, 55, 43, 87, 76]\n",
    "x=len(list)\n",
    "print(list,\"\\nNumber of item in the List2:\",\"\\n\",x)"
   ]
  },
  {
   "cell_type": "code",
   "execution_count": 14,
   "id": "18e20784",
   "metadata": {},
   "outputs": [
    {
     "name": "stdout",
     "output_type": "stream",
     "text": [
      "Artificial Intelligence\n",
      "A\n",
      "r\n",
      "t\n",
      "i\n",
      "f\n",
      "i\n",
      "c\n",
      "i\n",
      "a\n",
      "l\n",
      " \n",
      "I\n",
      "n\n",
      "t\n",
      "e\n",
      "l\n",
      "l\n",
      "i\n",
      "g\n",
      "e\n",
      "n\n",
      "c\n",
      "e\n"
     ]
    }
   ],
   "source": [
    "# Method 1\n",
    "# https://bobbyhadz.com/blog/python-print-each-letter-on-new-line#:~:text=To%20print%20each%20letter%20in,function%20to%20print%20each%20letter.\n",
    "# https://stackoverflow.com/questions/42486408/how-to-avoid-space-on-newline-while-joining-a-list\n",
    "Learn='Artificial Intelligence'\n",
    "print(Learn)\n",
    "print('\\n'.join(Learn))"
   ]
  },
  {
   "cell_type": "code",
   "execution_count": 12,
   "id": "14889798",
   "metadata": {},
   "outputs": [
    {
     "name": "stdout",
     "output_type": "stream",
     "text": [
      "Artificial Intelligence\n",
      "A\n",
      "r\n",
      "t\n",
      "i\n",
      "f\n",
      "i\n",
      "c\n",
      "i\n",
      "a\n",
      "l\n",
      " \n",
      "I\n",
      "n\n",
      "t\n",
      "e\n",
      "l\n",
      "l\n",
      "i\n",
      "g\n",
      "e\n",
      "n\n",
      "c\n",
      "e\n"
     ]
    }
   ],
   "source": [
    "#Method 2\n",
    "Learn='Artificial Intelligence'\n",
    "print(Learn)\n",
    "for temp in Learn:\n",
    "    print(temp)"
   ]
  },
  {
   "cell_type": "code",
   "execution_count": 15,
   "id": "ee8c312d",
   "metadata": {},
   "outputs": [
    {
     "name": "stdout",
     "output_type": "stream",
     "text": [
      "-Your Name-\n",
      "-Your Age-\n",
      "-Your Profession-\n"
     ]
    }
   ],
   "source": [
    "print(\"-Your Name-\\n-Your Age-\\n-Your Profession-\")"
   ]
  },
  {
   "cell_type": "code",
   "execution_count": 15,
   "id": "eaa083e8",
   "metadata": {},
   "outputs": [
    {
     "name": "stdout",
     "output_type": "stream",
     "text": [
      "(1, 'Welcome', 2, 'Hope')\n"
     ]
    }
   ],
   "source": [
    "# Print yhis mixered datatype using Tuples\n",
    "tuple=(1, 'Welcome', 2, 'Hope')\n",
    "print(tuple)"
   ]
  },
  {
   "cell_type": "code",
   "execution_count": 16,
   "id": "315f08c9",
   "metadata": {},
   "outputs": [
    {
     "name": "stdout",
     "output_type": "stream",
     "text": [
      "((0, 1, 2, 3), ('pyhton', 'HOPE'))\n"
     ]
    }
   ],
   "source": [
    "# Tuple1=(0,1,2,3)\n",
    "a=(0,1,2,3)\n",
    "b=('pyhton','HOPE')\n",
    "c=(a,b)\n",
    "print(c)"
   ]
  },
  {
   "cell_type": "code",
   "execution_count": 24,
   "id": "d5700b89",
   "metadata": {},
   "outputs": [
    {
     "name": "stdout",
     "output_type": "stream",
     "text": [
      "(20, 10, 16, 19, 25, 1, 276, 188)\n",
      "19 is odd\n",
      "25 is odd\n",
      "1 is odd\n"
     ]
    }
   ],
   "source": [
    "# print Odd Numbers in the list\n",
    "tuple1=(20,10,16,19,25,1,276,188)\n",
    "print(tuple)\n",
    "for x in tuple1:\n",
    "    if((x%2)!=0):\n",
    "        print(x,\"is odd\")"
   ]
  },
  {
   "cell_type": "code",
   "execution_count": 26,
   "id": "3fb05640",
   "metadata": {},
   "outputs": [
    {
     "name": "stdout",
     "output_type": "stream",
     "text": [
      "(20, 10, 16, 19, 25, 1, 276, 188)\n",
      "20 is Even\n",
      "10 is Even\n",
      "16 is Even\n",
      "276 is Even\n",
      "188 is Even\n"
     ]
    }
   ],
   "source": [
    "# print Even numbers in the list\n",
    "tuple2=(20,10,16,19,25,1,276,188)\n",
    "print(tuple2)\n",
    "for x in tuple2:\n",
    "    if((x%2)==0):\n",
    "        print(x,\"is Even\")"
   ]
  },
  {
   "cell_type": "code",
   "execution_count": null,
   "id": "df15cac6",
   "metadata": {},
   "outputs": [],
   "source": []
  }
 ],
 "metadata": {
  "kernelspec": {
   "display_name": "Python 3 (ipykernel)",
   "language": "python",
   "name": "python3"
  },
  "language_info": {
   "codemirror_mode": {
    "name": "ipython",
    "version": 3
   },
   "file_extension": ".py",
   "mimetype": "text/x-python",
   "name": "python",
   "nbconvert_exporter": "python",
   "pygments_lexer": "ipython3",
   "version": "3.7.13"
  }
 },
 "nbformat": 4,
 "nbformat_minor": 5
}
