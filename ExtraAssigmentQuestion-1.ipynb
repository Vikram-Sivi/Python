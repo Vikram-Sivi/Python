{
 "cells": [
  {
   "cell_type": "code",
   "execution_count": 3,
   "id": "64d5da27",
   "metadata": {},
   "outputs": [
    {
     "name": "stdout",
     "output_type": "stream",
     "text": [
      "HOPE AI\n"
     ]
    }
   ],
   "source": [
    "#print Statement\n",
    "print(\"HOPE AI\")"
   ]
  },
  {
   "cell_type": "code",
   "execution_count": 4,
   "id": "b17ebe30",
   "metadata": {},
   "outputs": [
    {
     "name": "stdout",
     "output_type": "stream",
     "text": [
      "Enter your institute Name? :HOPE AI\n"
     ]
    }
   ],
   "source": [
    "# Buy input\n",
    "x=input(\"Enter your institute Name? :\")"
   ]
  },
  {
   "cell_type": "code",
   "execution_count": 5,
   "id": "df4e48c3",
   "metadata": {},
   "outputs": [
    {
     "name": "stdout",
     "output_type": "stream",
     "text": [
      "Enter your name:Raj\n",
      "Enter your age:15\n",
      "Enter your school:Guru school\n",
      "Enter your degree:B.E CSE\n"
     ]
    }
   ],
   "source": [
    "# Buy inputs\n",
    "Name=input(\"Enter your name:\")\n",
    "Age=input(\"Enter your age:\")\n",
    "School=input(\"Enter your school:\")\n",
    "Degree=input(\"Enter your degree:\")"
   ]
  },
  {
   "cell_type": "code",
   "execution_count": 6,
   "id": "27a7c167",
   "metadata": {},
   "outputs": [
    {
     "name": "stdout",
     "output_type": "stream",
     "text": [
      "a=43\n",
      "b=34\n",
      "add= 77\n"
     ]
    }
   ],
   "source": [
    "#Addition\n",
    "a=int(input(\"a=\"))\n",
    "b=int(input(\"b=\"))\n",
    "add=a+b\n",
    "print(\"add=\",add)"
   ]
  },
  {
   "cell_type": "code",
   "execution_count": 8,
   "id": "c936a0af",
   "metadata": {},
   "outputs": [
    {
     "name": "stdout",
     "output_type": "stream",
     "text": [
      "a=43\n",
      "b=34\n",
      "add= 9\n"
     ]
    }
   ],
   "source": [
    "#Subtraction\n",
    "a=int(input(\"a=\"))\n",
    "b=int(input(\"b=\"))\n",
    "add=a-b\n",
    "print(\"add=\",add)"
   ]
  },
  {
   "cell_type": "code",
   "execution_count": 10,
   "id": "44fd1d5f",
   "metadata": {},
   "outputs": [
    {
     "name": "stdout",
     "output_type": "stream",
     "text": [
      "a=63\n",
      "b=97\n",
      "Mul= 6111\n"
     ]
    }
   ],
   "source": [
    "#Multiplication\n",
    "a=int(input(\"a=\"))\n",
    "b=int(input(\"b=\"))\n",
    "Mul=a*b\n",
    "print(\"Mul=\",Mul)"
   ]
  },
  {
   "cell_type": "code",
   "execution_count": 12,
   "id": "4e03ee09",
   "metadata": {},
   "outputs": [
    {
     "name": "stdout",
     "output_type": "stream",
     "text": [
      "a=76\n",
      "b=31\n",
      "Float Div= 2.4516129032258065\n"
     ]
    }
   ],
   "source": [
    "#Division\n",
    "a=int(input(\"a=\"))\n",
    "b=int(input(\"b=\"))\n",
    "Div=a/b\n",
    "print(\"Float Div=\",Div)"
   ]
  },
  {
   "cell_type": "code",
   "execution_count": 13,
   "id": "72bf05ca",
   "metadata": {},
   "outputs": [
    {
     "name": "stdout",
     "output_type": "stream",
     "text": [
      "a=76\n",
      "b=31\n",
      "Floor Div= 2\n"
     ]
    }
   ],
   "source": [
    "#Floor division\n",
    "a=int(input(\"a=\"))\n",
    "b=int(input(\"b=\"))\n",
    "Div=a//b\n",
    "print(\"Floor Div=\",Div)"
   ]
  },
  {
   "cell_type": "code",
   "execution_count": 17,
   "id": "3bcaf229",
   "metadata": {},
   "outputs": [
    {
     "name": "stdout",
     "output_type": "stream",
     "text": [
      "a=76\n",
      "b=31\n",
      "Modulo= 14\n"
     ]
    }
   ],
   "source": [
    "#Modulo\n",
    "a=int(input(\"a=\"))\n",
    "b=int(input(\"b=\"))\n",
    "c=a%b\n",
    "print(\"Modulo=\",c)"
   ]
  },
  {
   "cell_type": "code",
   "execution_count": 18,
   "id": "2cafb380",
   "metadata": {},
   "outputs": [
    {
     "name": "stdout",
     "output_type": "stream",
     "text": [
      "a=4\n",
      "b=4\n",
      "Power= 256\n"
     ]
    }
   ],
   "source": [
    "#Power\n",
    "#Syntax of pow function\n",
    "    #pow(x, y, z)\n",
    "    #x\tA number, the base\n",
    "    #y\tA number, the exponent\n",
    "    #z\tOptional. A number, the modulus\n",
    "    \n",
    "a=int(input(\"a=\"))\n",
    "b=int(input(\"b=\"))\n",
    "print(\"Power=\",pow(a,b))"
   ]
  },
  {
   "cell_type": "code",
   "execution_count": null,
   "id": "a14e86b6",
   "metadata": {},
   "outputs": [],
   "source": []
  }
 ],
 "metadata": {
  "kernelspec": {
   "display_name": "Python 3 (ipykernel)",
   "language": "python",
   "name": "python3"
  },
  "language_info": {
   "codemirror_mode": {
    "name": "ipython",
    "version": 3
   },
   "file_extension": ".py",
   "mimetype": "text/x-python",
   "name": "python",
   "nbconvert_exporter": "python",
   "pygments_lexer": "ipython3",
   "version": "3.7.13"
  }
 },
 "nbformat": 4,
 "nbformat_minor": 5
}
