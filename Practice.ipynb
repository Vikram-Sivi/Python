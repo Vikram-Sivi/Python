{
 "cells": [
  {
   "cell_type": "code",
   "execution_count": 17,
   "id": "8a5fe7f8",
   "metadata": {},
   "outputs": [
    {
     "name": "stdout",
     "output_type": "stream",
     "text": [
      "Result of add function is 5\n"
     ]
    }
   ],
   "source": [
    "def addition(a,b):\n",
    "    return a+b\n",
    "res = addition(2, 3)\n",
    "print(\"Result of add function is {}\".format(res))\n"
   ]
  },
  {
   "cell_type": "code",
   "execution_count": 1,
   "id": "ccf8c8b8",
   "metadata": {},
   "outputs": [
    {
     "name": "stdout",
     "output_type": "stream",
     "text": [
      "I have 4.00 Ruppes!\n"
     ]
    }
   ],
   "source": [
    "txt = \"I have {an:.2f} Ruppes!\"\n",
    "print(txt.format(an = 4))"
   ]
  },
  {
   "cell_type": "code",
   "execution_count": 22,
   "id": "118bc1cc",
   "metadata": {},
   "outputs": [
    {
     "name": "stdout",
     "output_type": "stream",
     "text": [
      "3\n"
     ]
    }
   ],
   "source": [
    "mylist=[\"apple\",\"banana\",\"orange\"]\n",
    "x=len(mylist)\n",
    "print(x)"
   ]
  },
  {
   "cell_type": "code",
   "execution_count": 23,
   "id": "9882670a",
   "metadata": {},
   "outputs": [
    {
     "name": "stdout",
     "output_type": "stream",
     "text": [
      "False\n"
     ]
    }
   ],
   "source": [
    "x = False\n",
    "print(bool(x))"
   ]
  },
  {
   "cell_type": "code",
   "execution_count": 25,
   "id": "46c05b56",
   "metadata": {},
   "outputs": [
    {
     "name": "stdout",
     "output_type": "stream",
     "text": [
      "True\n"
     ]
    }
   ],
   "source": [
    "x = 'false'\n",
    "print(bool(x))"
   ]
  },
  {
   "cell_type": "code",
   "execution_count": 52,
   "id": "5e2aa20a",
   "metadata": {},
   "outputs": [],
   "source": [
    "def hotel():\n",
    "    if (price<=50):\n",
    "        print(\"Dosai\")\n",
    "        dinner=\"Dosai\"\n",
    "    elif (price<=250):\n",
    "        print(\"Nan+Panner butter Masala\")\n",
    "        dinner=\"Nan+Panner butter Masala\"\n",
    "    elif (price<=500):\n",
    "        print(\"Grill or Tandoori\")\n",
    "        dinner=\"Grill or Tandoori\"\n",
    "    else:\n",
    "        print(\"It's a Grand party\")\n",
    "        dinner=\"It's a Grand party\"\n",
    "    return dinner"
   ]
  },
  {
   "cell_type": "code",
   "execution_count": 53,
   "id": "2d13b89e",
   "metadata": {},
   "outputs": [
    {
     "name": "stdout",
     "output_type": "stream",
     "text": [
      "Enter the price to see the dish accordingly:Rs. 250\n",
      "Nan+Panner butter Masala\n"
     ]
    },
    {
     "data": {
      "text/plain": [
       "'Nan+Panner butter Masala'"
      ]
     },
     "execution_count": 53,
     "metadata": {},
     "output_type": "execute_result"
    }
   ],
   "source": [
    "price=int(input(\"Enter the price to see the dish accordingly:Rs. \"))\n",
    "hotel()"
   ]
  },
  {
   "cell_type": "code",
   "execution_count": 55,
   "id": "9fde9a75",
   "metadata": {},
   "outputs": [
    {
     "name": "stdout",
     "output_type": "stream",
     "text": [
      "Enter the price to see the dish accordingly:Rs. 1000\n",
      "It's a Grand party\n"
     ]
    }
   ],
   "source": [
    "price=int(input(\"Enter the price to see the dish accordingly:Rs. \"))\n",
    "Calling_func=hotel()"
   ]
  },
  {
   "cell_type": "code",
   "execution_count": 58,
   "id": "c56744f6",
   "metadata": {},
   "outputs": [
    {
     "data": {
      "text/plain": [
       "\"It's a Grand party\""
      ]
     },
     "execution_count": 58,
     "metadata": {},
     "output_type": "execute_result"
    }
   ],
   "source": [
    "Calling_func"
   ]
  },
  {
   "cell_type": "code",
   "execution_count": 4,
   "id": "386cbbf2",
   "metadata": {},
   "outputs": [
    {
     "name": "stdout",
     "output_type": "stream",
     "text": [
      "HELLO\n",
      "HELLO\n"
     ]
    }
   ],
   "source": [
    "def shout(text): \n",
    "    return text.upper() \n",
    "    \n",
    "print(shout('Hello')) \n",
    "    \n",
    "yell = shout\n",
    "    \n",
    "print(yell('Hello'))"
   ]
  },
  {
   "cell_type": "code",
   "execution_count": 7,
   "id": "bb528544",
   "metadata": {},
   "outputs": [
    {
     "name": "stdout",
     "output_type": "stream",
     "text": [
      "1\n",
      "2\n",
      "3\n",
      "4\n",
      "5\n"
     ]
    }
   ],
   "source": [
    "for i in range(1,6):\n",
    "    print (i)\n"
   ]
  },
  {
   "cell_type": "code",
   "execution_count": 2,
   "id": "8cdd4843",
   "metadata": {},
   "outputs": [
    {
     "name": "stdout",
     "output_type": "stream",
     "text": [
      "['Subject1', 'Subject2', 'Subject3', 'Subject4', 'Subject5']\n"
     ]
    }
   ],
   "source": [
    "def Percentage():\n",
    "    for i in range(5)\n",
    "    print(\"Subject{}\".format(i):=int(input()))\n",
    "    return\n",
    "Result = Percentage()"
   ]
  },
  {
   "cell_type": "code",
   "execution_count": 17,
   "id": "cf47af25",
   "metadata": {},
   "outputs": [
    {
     "name": "stdout",
     "output_type": "stream",
     "text": [
      "Enter the value:10 20 30 40 50\n"
     ]
    }
   ],
   "source": [
    "a, b, c, d, e = input(\"Enter the value:\").split()\n"
   ]
  },
  {
   "cell_type": "code",
   "execution_count": 13,
   "id": "8b7d3f34",
   "metadata": {},
   "outputs": [
    {
     "name": "stdout",
     "output_type": "stream",
     "text": [
      "Enter three values: 50 90 100\n",
      "Enter Your First Name:  50\n",
      "Enter Your Last Name:  90\n",
      "Enter Your Class:  100\n"
     ]
    }
   ],
   "source": [
    "a, b, c = input(\"Enter three values: \").split()  \n",
    "print(\"Enter Your First Name: \", a)  \n",
    "print(\"Enter Your Last Name: \", b)  \n",
    "print(\"Enter Your Class: \", c) "
   ]
  },
  {
   "cell_type": "code",
   "execution_count": 3,
   "id": "13856f06",
   "metadata": {},
   "outputs": [
    {
     "name": "stdout",
     "output_type": "stream",
     "text": [
      "Sub-fields in AI are:\n",
      "Machine Learning\n",
      "Neural Networks\n",
      "Vision\n",
      "Robotics\n",
      "Speech Processing\n",
      "Natural Language Processing\n"
     ]
    }
   ],
   "source": [
    "from PythonLib import SubfieldsInAI\n",
    "SubfieldsInAI.Subfields()"
   ]
  },
  {
   "cell_type": "code",
   "execution_count": 2,
   "id": "4e55a9ae",
   "metadata": {},
   "outputs": [
    {
     "name": "stdout",
     "output_type": "stream",
     "text": [
      "Enter a number:52452\n",
      "52452 is a Even number\n"
     ]
    }
   ],
   "source": [
    "from PythonLib import OddEven\n",
    "OddEven.OddEven()"
   ]
  },
  {
   "cell_type": "code",
   "execution_count": 4,
   "id": "96246bd4",
   "metadata": {},
   "outputs": [
    {
     "name": "stdout",
     "output_type": "stream",
     "text": [
      "Your Gender:male\n",
      "Your Age:20\n",
      "NOT ELIGIBLE\n"
     ]
    }
   ],
   "source": [
    "from PythonLib import ElegiblityForMarriage\n",
    "ElegiblityForMarriage.Eligible()"
   ]
  },
  {
   "cell_type": "code",
   "execution_count": 2,
   "id": "f5f92dc9",
   "metadata": {},
   "outputs": [
    {
     "name": "stdout",
     "output_type": "stream",
     "text": [
      "Subject1= 98\n",
      "Subject2= 87\n",
      "Subject3= 95\n",
      "Subject4= 95\n",
      "Subject5= 93\n",
      "Total=  468\n",
      "Percentage= 93.60000000000001\n"
     ]
    },
    {
     "data": {
      "text/plain": [
       "93.60000000000001"
      ]
     },
     "execution_count": 2,
     "metadata": {},
     "output_type": "execute_result"
    }
   ],
   "source": [
    "from PythonLib import FindPercent\n",
    "FindPercent.percentage()"
   ]
  },
  {
   "cell_type": "code",
   "execution_count": 1,
   "id": "bb3233fb",
   "metadata": {},
   "outputs": [
    {
     "name": "stdout",
     "output_type": "stream",
     "text": [
      "Height:32\n",
      "Breadth:34\n",
      "Area formula: (Height*Breadth)/2\n",
      "Area of Triangle: 544.0\n",
      "Height1:2\n",
      "Height2:4\n",
      "Breadth:4\n",
      "Perimeter formula: Height1+Height2+Breadth\n",
      "Perimeter of Triangle: 10\n"
     ]
    }
   ],
   "source": [
    "from PythonLib import triangle\n",
    "triangle.triangle()"
   ]
  },
  {
   "cell_type": "code",
   "execution_count": null,
   "id": "074f7dd6",
   "metadata": {},
   "outputs": [],
   "source": []
  }
 ],
 "metadata": {
  "kernelspec": {
   "display_name": "Python 3 (ipykernel)",
   "language": "python",
   "name": "python3"
  },
  "language_info": {
   "codemirror_mode": {
    "name": "ipython",
    "version": 3
   },
   "file_extension": ".py",
   "mimetype": "text/x-python",
   "name": "python",
   "nbconvert_exporter": "python",
   "pygments_lexer": "ipython3",
   "version": "3.7.13"
  }
 },
 "nbformat": 4,
 "nbformat_minor": 5
}
