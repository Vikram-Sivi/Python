{
 "cells": [
  {
   "cell_type": "code",
   "execution_count": 9,
   "id": "906de16d",
   "metadata": {},
   "outputs": [
    {
     "name": "stdout",
     "output_type": "stream",
     "text": [
      "Sub-fields in AI are: \n",
      "Machine Learning\n",
      "Neural Networks\n",
      "Vision\n",
      "Robotics\n",
      "Speech Processing\n",
      "Natural Language Processing\n"
     ]
    }
   ],
   "source": [
    "# Create Function\n",
    "\n",
    "def subfields():\n",
    "    fields=('\\nMachine Learning','Neural Networks','Vision','Robotics','Speech Processing','Natural Language Processing')\n",
    "    print('Sub-fields in AI are:','\\n'.join(fields))\n",
    "    return fields\n",
    "fields = subfields()"
   ]
  },
  {
   "cell_type": "code",
   "execution_count": 11,
   "id": "c37b48ce",
   "metadata": {},
   "outputs": [
    {
     "name": "stdout",
     "output_type": "stream",
     "text": [
      "Enter a number:4\n",
      "4 is a Even number\n"
     ]
    }
   ],
   "source": [
    "# Create Function\n",
    "\n",
    "def oddeven():\n",
    "    a = int(input(\"Enter a number:\"))\n",
    "    if ((a%2)==0):\n",
    "        print(\"{} is a Even number\".format(a))\n",
    "    else:\n",
    "        print(\"{} is a odd number\".format(a))\n",
    "    return a\n",
    "Result = oddeven()"
   ]
  },
  {
   "cell_type": "code",
   "execution_count": 36,
   "id": "b9af2676",
   "metadata": {},
   "outputs": [
    {
     "name": "stdout",
     "output_type": "stream",
     "text": [
      "Your Gender:Male\n",
      "Your Age:18\n",
      "NOT ELIGIBLE\n"
     ]
    }
   ],
   "source": [
    "# Create Function\n",
    "\n",
    "def Eligible():\n",
    "    b = input(\"Your Gender:\")\n",
    "    c = int(input(\"Your Age:\"))\n",
    "    if (b.upper() == 'MALE'and c>=21 ):\n",
    "        print(\"ELIGIBLE\")\n",
    "    elif (b.upper() == 'FEMALE' and c>=18):\n",
    "        print(\"ELIGIBLE\")\n",
    "    else:\n",
    "        print(\"NOT ELIGIBLE\")\n",
    "    return c\n",
    "Output = Eligible()"
   ]
  },
  {
   "cell_type": "code",
   "execution_count": 3,
   "id": "b94bc89c",
   "metadata": {},
   "outputs": [
    {
     "name": "stdout",
     "output_type": "stream",
     "text": [
      "Subject1= 23\n",
      "Subject2= 34\n",
      "Subject3= 45\n",
      "Subject4= 23\n",
      "Subject5= 23\n",
      "Total=  148\n",
      "Percentage= 29.599999999999998\n"
     ]
    }
   ],
   "source": [
    "# Create Function\n",
    "\n",
    "def percentage():\n",
    "    S1 = int(input(\"Subject1= \"))\n",
    "    S2 = int(input(\"Subject2= \"))\n",
    "    S3 = int(input(\"Subject3= \"))\n",
    "    S4 = int(input(\"Subject4= \"))\n",
    "    S5 = int(input(\"Subject5= \"))\n",
    "    Total = S1 + S2 + S3 + S4 + S5\n",
    "    print(\"Total= \",Total)\n",
    "    Percentage = (Total/500)*100\n",
    "    print(\"Percentage=\",Percentage)\n",
    "    return Percentage\n",
    "Result = percentage()"
   ]
  },
  {
   "cell_type": "code",
   "execution_count": 5,
   "id": "32378499",
   "metadata": {},
   "outputs": [
    {
     "name": "stdout",
     "output_type": "stream",
     "text": [
      "Height:3\n",
      "Breadth:4\n",
      "Area formula: (Height*Breadth)/2\n",
      "Area of Triangle: 6.0\n",
      "Height1:3\n",
      "Height2:4\n",
      "Breadth:45\n",
      "Perimeter formula: Height1+Height2+Breadth\n",
      "Perimeter of Triangle: 52\n"
     ]
    }
   ],
   "source": [
    "# Create Function\n",
    "\n",
    "def triangle():\n",
    "    h1 = int(input(\"Height:\"))\n",
    "    b1 = int(input(\"Breadth:\"))\n",
    "    print(\"Area formula: (Height*Breadth)/2\")\n",
    "    A1 = (h1 * b1)/2\n",
    "    print(\"Area of Triangle:\", A1)\n",
    "    H1 = int(input(\"Height1:\"))\n",
    "    H2 = int(input(\"Height2:\"))\n",
    "    B1 = int(input(\"Breadth:\"))\n",
    "    print(\"Perimeter formula: Height1+Height2+Breadth\")\n",
    "    A2 = H1 + H2 + B1\n",
    "    print(\"Perimeter of Triangle:\", A2)\n",
    "    return A1,A2\n",
    "Call = triangle()"
   ]
  },
  {
   "cell_type": "code",
   "execution_count": null,
   "id": "06c95639",
   "metadata": {},
   "outputs": [],
   "source": []
  }
 ],
 "metadata": {
  "kernelspec": {
   "display_name": "Python 3 (ipykernel)",
   "language": "python",
   "name": "python3"
  },
  "language_info": {
   "codemirror_mode": {
    "name": "ipython",
    "version": 3
   },
   "file_extension": ".py",
   "mimetype": "text/x-python",
   "name": "python",
   "nbconvert_exporter": "python",
   "pygments_lexer": "ipython3",
   "version": "3.7.13"
  }
 },
 "nbformat": 4,
 "nbformat_minor": 5
}
